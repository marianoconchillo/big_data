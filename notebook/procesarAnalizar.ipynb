{
 "cells": [
  {
   "cell_type": "markdown",
   "id": "80515061-dd38-4b99-992d-22c5bb6b4888",
   "metadata": {},
   "source": [
    "## Importaciones"
   ]
  },
  {
   "cell_type": "code",
   "execution_count": null,
   "id": "b6f1b4ad-1405-41c5-bebf-679615b2c645",
   "metadata": {},
   "outputs": [],
   "source": [
    "from pyspark.sql import SparkSession\n",
    "import pandas as pd\n",
    "import seaborn as sns\n",
    "import numpy as np\n",
    "import matplotlib.pyplot as plt"
   ]
  },
  {
   "cell_type": "markdown",
   "id": "f0a08113-b79f-4c41-94ff-05533cd82ba3",
   "metadata": {},
   "source": [
    "## Apache SPARK y MapReduce"
   ]
  },
  {
   "cell_type": "markdown",
   "id": "c74331a6-eb16-4cd5-b3f2-631a5f51ded4",
   "metadata": {
    "tags": []
   },
   "source": [
    "#### Configuraciones SparkSession:\n",
    "##### - Cantidad de memoria a asignar a los workers\n",
    "##### - Nombre de la aplicación\n",
    "##### - Lugar donde está el servidor master"
   ]
  },
  {
   "cell_type": "code",
   "execution_count": null,
   "id": "4aa7348c-b27a-4eff-ab09-b8dc29d02f12",
   "metadata": {},
   "outputs": [],
   "source": [
    "spark = SparkSession\\\n",
    ".builder\\\n",
    ".config(\"spark.submit.deployMode\", \"client\")\\\n",
    ".config(\"spark.executor.instances\", \"1\")\\\n",
    ".config(\"spark.executor.memory\", \"1g\")\\\n",
    ".config(\"spark.driver.memory\", \"1g\")\\\n",
    ".config(\"spark.executor.memoryOverhead\", \"1g\")\\\n",
    ".appName(\"procesandoEgresos2021\")\\\n",
    ".master(\"spark://sparkmaster:7077\")\\\n",
    ".getOrCreate()\n",
    "\n",
    "spark.sparkContext._conf.getAll()"
   ]
  },
  {
   "cell_type": "code",
   "execution_count": null,
   "id": "288ce918-54ed-4647-93ed-98578356a3c9",
   "metadata": {},
   "outputs": [],
   "source": [
    "df_girasol = spark.read.csv('hdfs://namenode:9000/cursoFAI/girasol-serie-1969-2019.csv', header=True, inferSchema=True) "
   ]
  },
  {
   "cell_type": "markdown",
   "id": "7def576b-95ef-4f63-a37d-53d9ddb131f4",
   "metadata": {},
   "source": [
    "#### Función que mapea por provincia el rendimiento en kg por hectárea y reduce con la función a la suma de los rendimientos históricos por provincia.\n",
    "\n",
    "<img src=\"./1.png\" style=\"width:500px\">"
   ]
  },
  {
   "cell_type": "code",
   "execution_count": null,
   "id": "71955709-a210-46a2-89f4-f8321e3fdbae",
   "metadata": {},
   "outputs": [],
   "source": [
    "def mapeoProvinciaRendimiento(df_girasol):\n",
    "     \n",
    "    mapeo =  df_girasol.rdd.map(lambda x: (x['provincia_nombre'], x['rendimiento_kgxha']))\n",
    "    \n",
    "    resultado = mapeo.reduceByKey(lambda x,y: round(x+y,2) ).sortByKey()\n",
    "    \n",
    "    print('<<< Resultado del Reduce >>>')\n",
    "    print(resultado.collect())\n",
    "    return resultado\n",
    "\n",
    "dataProvinciaRendimiento = mapeoProvinciaRendimiento(df_girasol)"
   ]
  },
  {
   "cell_type": "markdown",
   "id": "64336dea-d387-4179-82ab-fd373001d683",
   "metadata": {},
   "source": [
    "#### Calculamos el año record y el peor de producción de girasol (toneladas) en Argentina (1969-2019)\n",
    "\n",
    "<img src=\"./2.png\" style=\"width:500px\">"
   ]
  },
  {
   "cell_type": "code",
   "execution_count": null,
   "id": "4f6b5001-1aa1-46fd-a6bd-51bc728d79d2",
   "metadata": {},
   "outputs": [],
   "source": [
    "def anioRecord(df_girasol):\n",
    "    \n",
    "    mapeo =  df_girasol.rdd.map(lambda x: (x['anio'], x['produccion_tm']))\n",
    "    \n",
    "    resultado = mapeo.reduceByKey(lambda x,y: round(x+y,2) ).sortBy(lambda x: x[1])\n",
    "        \n",
    "    print('<<< Resultado del Reduce >>>')\n",
    "    print(\"Peor año = \", resultado.first())\n",
    "    print(\"Año récord = \", resultado.max(lambda x: x[1]))\n",
    "    return resultado.first(), resultado.max(lambda x: x[1])\n",
    "    \n",
    "peorAnio = anioRecord(df_girasol)"
   ]
  },
  {
   "cell_type": "markdown",
   "id": "7f0b0553-0f58-4ee3-9168-d3fdd9eeacc2",
   "metadata": {},
   "source": [
    "#### Mostramos gráficamente los resultados"
   ]
  },
  {
   "cell_type": "code",
   "execution_count": null,
   "id": "e3345170-04fa-4e0c-b73e-4b029a6e6985",
   "metadata": {},
   "outputs": [],
   "source": [
    "# Obtenemos los datos para graficar\n",
    "kvRDD1 = spark.sparkContext.parallelize(dataProvinciaRendimiento.collect())\n",
    "kvRDD1 = kvRDD1.sortBy(lambda x: x[1])\n",
    "\n",
    "provincias = kvRDD1.keys().collect()\n",
    "rendimientos = kvRDD1.values().collect()\n",
    " \n",
    "# Figure Size\n",
    "fig, ax = plt.subplots(figsize =(16, 9))\n",
    " \n",
    "# Horizontal Bar Plot\n",
    "ax.barh(provincias, rendimientos)\n",
    " \n",
    "# Remove axes splines\n",
    "for s in ['top', 'bottom', 'left', 'right']:\n",
    "    ax.spines[s].set_visible(False)\n",
    "\n",
    "# Remove x, y Ticks\n",
    "ax.xaxis.set_ticks_position('none')\n",
    "ax.yaxis.set_ticks_position('none')\n",
    " \n",
    "# Add padding between axes and labels\n",
    "ax.xaxis.set_tick_params(pad = 5)\n",
    "ax.yaxis.set_tick_params(pad = 10)\n",
    " \n",
    "# Add x, y gridlines\n",
    "ax.grid(visible = True, color ='grey',\n",
    "        linestyle ='-.', linewidth = 0.5,\n",
    "        alpha = 0.2)\n",
    " \n",
    "# Add annotation to bars\n",
    "for i in ax.patches:\n",
    "    plt.text(i.get_width()+0.2, i.get_y()+0.5,\n",
    "             str(round((i.get_width()), 2)),\n",
    "             fontsize = 11, fontweight ='bold',\n",
    "             color ='grey')\n",
    "\n",
    "# Add Plot Title\n",
    "ax.set_title('Rendimiento Histórico',\n",
    "             loc ='center', )\n",
    " \n",
    "# Show Plot\n",
    "plt.show()"
   ]
  },
  {
   "cell_type": "markdown",
   "id": "584b3f3a-e02e-4ac9-9c64-49fbfa1d8c5e",
   "metadata": {},
   "source": [
    "#### Para el peor año de producción, calculamos el porcentaje de cosecha en base a la siembra por provincia"
   ]
  },
  {
   "cell_type": "code",
   "execution_count": null,
   "id": "8be845d6-98c7-4593-84c6-37df5ef113b7",
   "metadata": {},
   "outputs": [],
   "source": [
    "df_provincias = df_girasol.select('provincia_nombre').distinct()\n",
    "\n",
    "# Filtramos por peor año y nos quedamos con las columnas que nos interesan\n",
    "df_aux = df_girasol.filter('anio = \"'+str(peorAnio[0][0])+'\"')\n",
    "df_aux = df_aux[['provincia_nombre', 'superficie_sembrada_ha', 'superficie_cosechada_ha']]\n",
    "\n",
    "mapeo_siembra =  df_aux.rdd.map(lambda x: (x['provincia_nombre'], x['superficie_sembrada_ha']))\n",
    "resultado_siembra = mapeo_siembra.reduceByKey(lambda x,y: round(x+y,2) ).sortByKey().collect()\n",
    "\n",
    "mapeo_cosecha =  df_aux.rdd.map(lambda x: (x['provincia_nombre'], x['superficie_cosechada_ha']))\n",
    "resultado_cosecha = mapeo_cosecha.reduceByKey(lambda x,y: round(x+y,2) ).sortByKey().collect()\n",
    "\n",
    "porcentajes = []\n",
    "\n",
    "for i in range(len(resultado_siembra)):\n",
    "    porcentajes.append((resultado_cosecha[i][1] * 100) / resultado_siembra[i][1])\n",
    "    \n",
    "df = pd.DataFrame(resultado_siembra, columns=[\"provincia\", \"siembra\"])\n",
    "df[\"porcentaje\"] = porcentajes\n",
    "df = df[['provincia', 'porcentaje']]"
   ]
  },
  {
   "cell_type": "code",
   "execution_count": null,
   "id": "86bb3d24-bd5d-4b62-af67-edf7f3e4073d",
   "metadata": {},
   "outputs": [],
   "source": [
    "import numpy as np\n",
    "\n",
    "ax = df.plot.bar(x='provincia', y='porcentaje', rot=50,  figsize=(9,7))\n",
    "ax.get_legend().remove()\n",
    "ax.set_title('Porcentaje de cosecha en base a la siembra del peor año')\n",
    "ax.set_xlabel('Provincias')\n",
    "ax.set_ylabel('Porcentaje')"
   ]
  },
  {
   "cell_type": "markdown",
   "id": "3311f54e-17cb-4e2a-8f4c-c8fc0c347897",
   "metadata": {},
   "source": [
    "#### Para el mejor año de producción, calculamos el porcentaje de cosecha en base a la siembra por provincia"
   ]
  },
  {
   "cell_type": "code",
   "execution_count": null,
   "id": "7a53875c-edde-481d-82e7-f15f6a81421e",
   "metadata": {},
   "outputs": [],
   "source": [
    "df_provincias = df_girasol.select('provincia_nombre').distinct()\n",
    "\n",
    "# Filtramos por mejor año y nos quedamos con las columnas que nos interesan\n",
    "df_aux = df_girasol.filter('anio = \"'+str(peorAnio[1][0])+'\"')\n",
    "df_aux = df_aux[['provincia_nombre', 'superficie_sembrada_ha', 'superficie_cosechada_ha']]\n",
    "\n",
    "mapeo_siembra =  df_aux.rdd.map(lambda x: (x['provincia_nombre'], x['superficie_sembrada_ha']))\n",
    "resultado_siembra = mapeo_siembra.reduceByKey(lambda x,y: round(x+y,2) ).sortByKey().collect()\n",
    "\n",
    "mapeo_cosecha =  df_aux.rdd.map(lambda x: (x['provincia_nombre'], x['superficie_cosechada_ha']))\n",
    "resultado_cosecha = mapeo_cosecha.reduceByKey(lambda x,y: round(x+y,2) ).sortByKey().collect()\n",
    "\n",
    "porcentajes = []\n",
    "\n",
    "for i in range(len(resultado_siembra)):\n",
    "    porcentajes.append((resultado_cosecha[i][1] * 100) / resultado_siembra[i][1])\n",
    "    \n",
    "df = pd.DataFrame(resultado_siembra, columns=[\"provincia\", \"siembra\"])\n",
    "df[\"porcentaje\"] = porcentajes\n",
    "df = df[['provincia', 'porcentaje']]"
   ]
  },
  {
   "cell_type": "code",
   "execution_count": null,
   "id": "62e9ac48-04e4-4ea1-8b36-13b8318286cb",
   "metadata": {},
   "outputs": [],
   "source": [
    "ax = df.plot.bar(x='provincia', y='porcentaje', rot=50,  figsize=(9,7))\n",
    "ax.get_legend().remove()\n",
    "ax.set_title('Porcentaje de cosecha en base a la siembra del mejor año')\n",
    "ax.set_xlabel('Provincias')\n",
    "ax.set_ylabel('Porcentaje')"
   ]
  },
  {
   "cell_type": "code",
   "execution_count": null,
   "id": "76a45915-bf45-4da9-b43f-cb66a7314ff0",
   "metadata": {},
   "outputs": [],
   "source": [
    "#cerramos la sesion de spark\n",
    "spark.sparkContext.stop()"
   ]
  },
  {
   "cell_type": "markdown",
   "id": "2bd3da8b-792f-4198-9f28-4308841dd49c",
   "metadata": {},
   "source": [
    "## Análisis"
   ]
  },
  {
   "cell_type": "code",
   "execution_count": null,
   "id": "f129c04f-0165-4700-a78e-d3fd0bed2f0d",
   "metadata": {},
   "outputs": [],
   "source": [
    "# Recuperamos el dataset\n",
    "df = pd.read_csv('girasol-serie-1969-2019.csv', encoding=(\"ISO-8859-1\"))"
   ]
  },
  {
   "cell_type": "code",
   "execution_count": null,
   "id": "c0e34d74-b482-4d4b-b579-b31a30825818",
   "metadata": {},
   "outputs": [],
   "source": [
    "df = df.drop(columns=['campania','provincia_id', 'departamento_nombre', 'departamento_id'])\n",
    "df.head()"
   ]
  },
  {
   "cell_type": "markdown",
   "id": "2b1581f0-3009-440e-86f4-907780c3f625",
   "metadata": {},
   "source": [
    "#### Estadística básica"
   ]
  },
  {
   "cell_type": "code",
   "execution_count": null,
   "id": "2df45638-ee2e-438c-9576-ea3446bb3b4a",
   "metadata": {},
   "outputs": [],
   "source": [
    "print(\"Promedio de cada uno de los atributos que nos interesan\")\n",
    "print(\"-------------------------------------------------------\")\n",
    "print(\"Superficie sembrada:\t\", df.superficie_sembrada_ha.mean())\n",
    "print(\"Superficie cosechada:\t\", df.superficie_cosechada_ha.mean())\n",
    "print(\"Producción: \t\t\", df.produccion_tm.mean())\n",
    "print(\"Rendimiento: \t\t\", df.rendimiento_kgxha.mean())"
   ]
  },
  {
   "cell_type": "code",
   "execution_count": null,
   "id": "ec7e9e82-186b-443f-8dd9-660341007202",
   "metadata": {},
   "outputs": [],
   "source": [
    "df2 = df.groupby([\"provincia_nombre\"])[\"rendimiento_kgxha\"].mean()\n",
    "df2"
   ]
  },
  {
   "cell_type": "code",
   "execution_count": null,
   "id": "ced59f6e-a338-4a2b-9bf2-8d96c9734808",
   "metadata": {},
   "outputs": [],
   "source": [
    "sns.displot(df, x=\"rendimiento_kgxha\", bins=20)\n",
    "plt.savefig('rendimiento_kgxha.png')"
   ]
  },
  {
   "cell_type": "code",
   "execution_count": null,
   "id": "0421a482-7ed2-4296-9dc6-cb5bc1f82b3e",
   "metadata": {},
   "outputs": [],
   "source": [
    "sns.stripplot(x=\"cultivo_nombre\",y=\"rendimiento_kgxha\",data=df)"
   ]
  },
  {
   "cell_type": "code",
   "execution_count": null,
   "id": "a1fc1d6e-ff41-4c88-85f4-1e42ca16d0b5",
   "metadata": {},
   "outputs": [],
   "source": [
    "sns.displot(df, x=\"produccion_tm\", bins=10)"
   ]
  },
  {
   "cell_type": "code",
   "execution_count": null,
   "id": "cd0d3e27-522e-4934-92fb-2caa0c516581",
   "metadata": {},
   "outputs": [],
   "source": [
    "sns.stripplot(x=\"cultivo_nombre\",y=\"produccion_tm\",data=df)"
   ]
  },
  {
   "cell_type": "code",
   "execution_count": null,
   "id": "d4672838-f009-469b-a972-000391bee985",
   "metadata": {},
   "outputs": [],
   "source": [
    "print(\"Comparación mediana - media:\")\n",
    "print(\"---------------------\")\n",
    "print(\"Superficie sembrada:\t\", df.superficie_sembrada_ha.median(), \"---\", df.superficie_sembrada_ha.mean())\n",
    "print(\"Superficie cosechada:\t\", df.superficie_cosechada_ha.median(), \"---\", df.superficie_cosechada_ha.mean())\n",
    "print(\"Producción:\t\t\", df.produccion_tm.median(), \"---\", df.produccion_tm.mean())\n",
    "print(\"Rendimiento:\t\t\", df.rendimiento_kgxha.median(), \"---\", df.rendimiento_kgxha.mean())"
   ]
  },
  {
   "cell_type": "code",
   "execution_count": null,
   "id": "18a17980-3c14-44b5-aa51-49ff2fb9d4f1",
   "metadata": {},
   "outputs": [],
   "source": [
    "sns.boxplot(x=\"cultivo_nombre\",y=\"rendimiento_kgxha\",data=df)"
   ]
  },
  {
   "cell_type": "code",
   "execution_count": null,
   "id": "7b10bbba-a4c6-49f0-963c-2a3ede6c849b",
   "metadata": {},
   "outputs": [],
   "source": [
    "sns.boxplot(x=\"cultivo_nombre\",y=\"produccion_tm\",data=df)"
   ]
  },
  {
   "cell_type": "code",
   "execution_count": null,
   "id": "6bc70e5d-a9b0-40b3-a472-c651da7e0c60",
   "metadata": {},
   "outputs": [],
   "source": [
    "df_aux = df.drop(columns=['cultivo_nombre','anio', 'provincia_nombre'])\n",
    "sns.pairplot(df_aux)"
   ]
  },
  {
   "cell_type": "markdown",
   "id": "142dd88a-e942-439d-ac59-0f70a7c2e954",
   "metadata": {},
   "source": [
    "#### Análisis de Correlación"
   ]
  },
  {
   "cell_type": "code",
   "execution_count": null,
   "id": "6faf7978-d330-40f6-8489-da02f2476a14",
   "metadata": {},
   "outputs": [],
   "source": [
    "sns.heatmap(df.corr(),annot=True, cmap=\"coolwarm\")"
   ]
  },
  {
   "cell_type": "code",
   "execution_count": null,
   "id": "3e887436-3891-497e-a603-5e122a28dbc1",
   "metadata": {},
   "outputs": [],
   "source": [
    "mask = (df['anio'] >= 2009)\n",
    "filtered_df =df.loc [mask]\n",
    "filtered_df.head()"
   ]
  },
  {
   "cell_type": "code",
   "execution_count": null,
   "id": "d7e9505b-504c-4f09-9c1d-7f02bd0486ae",
   "metadata": {},
   "outputs": [],
   "source": [
    "fp = filtered_df.pivot_table(index=\"provincia_nombre\",columns=\"anio\",values=\"rendimiento_kgxha\")\n",
    "fp.head()"
   ]
  },
  {
   "cell_type": "code",
   "execution_count": null,
   "id": "1730d5cf-6d18-43f9-971c-e99a4b0885d8",
   "metadata": {},
   "outputs": [],
   "source": [
    "sns.heatmap(fp,linecolor=\"white\",linewidths=2, cmap=\"coolwarm\")"
   ]
  },
  {
   "cell_type": "code",
   "execution_count": null,
   "id": "271d372a-59ad-4b55-b8b3-5221cbee9316",
   "metadata": {},
   "outputs": [],
   "source": [
    "sns.lmplot(x=\"superficie_sembrada_ha\",y=\"superficie_cosechada_ha\",data=filtered_df)"
   ]
  },
  {
   "cell_type": "code",
   "execution_count": null,
   "id": "24547230-166d-47aa-bc1f-716605de3768",
   "metadata": {},
   "outputs": [],
   "source": [
    "sns.lmplot(x=\"superficie_cosechada_ha\",y=\"produccion_tm\",data=filtered_df)"
   ]
  },
  {
   "cell_type": "code",
   "execution_count": null,
   "id": "342cf2a0-137a-48f1-abd3-aca3b4f0d5b7",
   "metadata": {},
   "outputs": [],
   "source": [
    "sns.lmplot(x=\"superficie_cosechada_ha\",y=\"rendimiento_kgxha\",data=filtered_df)"
   ]
  },
  {
   "cell_type": "markdown",
   "id": "da8c93d0-50c8-4fbf-b094-dc200233bd61",
   "metadata": {},
   "source": [
    "#### Regresión Lineal"
   ]
  },
  {
   "cell_type": "code",
   "execution_count": null,
   "id": "25237a1b-2318-4ad9-9cbc-5aa6c00df0f2",
   "metadata": {},
   "outputs": [],
   "source": [
    "from sklearn.model_selection import train_test_split\n",
    "from sklearn.linear_model import LinearRegression\n",
    "from sklearn.metrics import mean_squared_error, r2_score\n",
    "import warnings\n",
    "with warnings.catch_warnings():\n",
    "    warnings.simplefilter(\"ignore\")"
   ]
  },
  {
   "cell_type": "code",
   "execution_count": null,
   "id": "b1855f5b-e9c7-41fd-bbdb-0eb4c31b0bcc",
   "metadata": {},
   "outputs": [],
   "source": [
    "df.columns"
   ]
  },
  {
   "cell_type": "markdown",
   "id": "44530be0-9ebf-495b-86c0-efe6ea393d46",
   "metadata": {},
   "source": [
    "##### Predecir Cosecha"
   ]
  },
  {
   "cell_type": "code",
   "execution_count": null,
   "id": "aed1e08a-3e3b-4d05-95c2-37c6247b77b7",
   "metadata": {},
   "outputs": [],
   "source": [
    "# Features\n",
    "X = df[[\"superficie_sembrada_ha\"]]\n",
    "\n",
    "# Intento predecir\n",
    "y = df[\"superficie_cosechada_ha\"]"
   ]
  },
  {
   "cell_type": "code",
   "execution_count": null,
   "id": "a3145dbd-406f-45ac-b991-ae270d07f3b4",
   "metadata": {},
   "outputs": [],
   "source": [
    "# 30% para test\n",
    "X_train, X_test, y_train, y_test = train_test_split(X, y, test_size=0.3, random_state=101)"
   ]
  },
  {
   "cell_type": "markdown",
   "id": "ef89bb1e-09a1-420d-96b6-c0996c9fa6b3",
   "metadata": {},
   "source": [
    "###### Por cada unidad que aumente el coeficiente, incrementa o decrementa el rendimiento"
   ]
  },
  {
   "cell_type": "code",
   "execution_count": null,
   "id": "793c4814-364a-4d0f-928e-1e59ef7e9b4d",
   "metadata": {},
   "outputs": [],
   "source": [
    "# Entrenamos el modelo\n",
    "lm = LinearRegression()\n",
    "lm.fit(X_train.values, y_train)\n",
    "cdf = pd.DataFrame(lm.coef_, X.columns, columns=[\"Coeficiente\"])\n",
    "cdf"
   ]
  },
  {
   "cell_type": "code",
   "execution_count": null,
   "id": "6648b2ef-8090-4af4-a33b-c92480d890a6",
   "metadata": {},
   "outputs": [],
   "source": [
    "# Predicciones\n",
    "predictions = lm.predict(X_test.values)\n",
    "plt.scatter(y_test, predictions)\n",
    "plt.xlabel(\"Siembra\", size = 12)\n",
    "plt.ylabel(\"Cosecha\", size = 12)\n",
    "sns.regplot(data=df,x=y_test,y=predictions,scatter=True,order=1)\n",
    "plt.savefig('prediccion_cosecha.png')"
   ]
  },
  {
   "cell_type": "code",
   "execution_count": null,
   "id": "4b7801af-f580-4b84-aff2-c5fbc4932d6f",
   "metadata": {},
   "outputs": [],
   "source": [
    "# Predicción de cosecha para una siembra de 10.000 hectáreas\n",
    "print(lm.predict([[25000]]))"
   ]
  },
  {
   "cell_type": "markdown",
   "id": "cd3e8940-8bef-4014-9760-f8f2a5ca2c90",
   "metadata": {},
   "source": [
    "#### Predecir Producción"
   ]
  },
  {
   "cell_type": "code",
   "execution_count": null,
   "id": "9f20b711-454d-4504-ac6e-c0c3d3a93697",
   "metadata": {},
   "outputs": [],
   "source": [
    "# Features\n",
    "X = df[[\"superficie_sembrada_ha\", \"superficie_cosechada_ha\"]]\n",
    "\n",
    "# Intento predecir\n",
    "y = df[\"produccion_tm\"]"
   ]
  },
  {
   "cell_type": "code",
   "execution_count": null,
   "id": "1408c159-5bbb-4f66-98e0-71b11f13376b",
   "metadata": {},
   "outputs": [],
   "source": [
    "# 30% para test\n",
    "X_train, X_test, y_train, y_test = train_test_split(X, y, test_size=0.3, random_state=101)"
   ]
  },
  {
   "cell_type": "code",
   "execution_count": null,
   "id": "6998f8b2-619b-4f73-989e-d483c0cf6d11",
   "metadata": {},
   "outputs": [],
   "source": [
    "# Entrenamos el modelo\n",
    "lm = LinearRegression()\n",
    "lm.fit(X_train.values, y_train)\n",
    "cdf = pd.DataFrame(lm.coef_, X.columns, columns=[\"Coeficientes\"])\n",
    "cdf"
   ]
  },
  {
   "cell_type": "code",
   "execution_count": null,
   "id": "3f4ce72b-c4fb-4106-8cb8-35c47610a6fc",
   "metadata": {},
   "outputs": [],
   "source": [
    "# Predicciones\n",
    "predictions = lm.predict(X_test.values)\n",
    "plt.scatter(y_test, predictions)\n",
    "plt.xlabel(\"Producción\", size = 12)\n",
    "sns.regplot(data=df,x=y_test,y=predictions,scatter=True,order=1)"
   ]
  },
  {
   "cell_type": "code",
   "execution_count": null,
   "id": "a140fa8d-5e6f-460c-86e6-a74c8cf4fee3",
   "metadata": {},
   "outputs": [],
   "source": [
    "# Predicción de producción para una siembra de 5.000 hectáreas y cosecha de 4900 hectáreas\n",
    "print(lm.predict([[25000, 23934]]))"
   ]
  }
 ],
 "metadata": {
  "kernelspec": {
   "display_name": "Python 3 (ipykernel)",
   "language": "python",
   "name": "python3"
  },
  "language_info": {
   "codemirror_mode": {
    "name": "ipython",
    "version": 3
   },
   "file_extension": ".py",
   "mimetype": "text/x-python",
   "name": "python",
   "nbconvert_exporter": "python",
   "pygments_lexer": "ipython3",
   "version": "3.9.12"
  }
 },
 "nbformat": 4,
 "nbformat_minor": 5
}
